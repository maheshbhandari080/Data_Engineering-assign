{
  "nbformat": 4,
  "nbformat_minor": 0,
  "metadata": {
    "colab": {
      "provenance": []
    },
    "kernelspec": {
      "name": "python3",
      "display_name": "Python 3"
    },
    "language_info": {
      "name": "python"
    }
  },
  "cells": [
    {
      "cell_type": "code",
      "source": [
        "def output_dict(date, quarter):\n",
        "    year = int(date[:4])\n",
        "    month = int(date[4:])\n",
        "\n",
        "    previous_month = f\"{year-1}{month-1:02}\" if month != 1 else f\"{year-1}12\"\n",
        "\n",
        "    previous_quarter_number = int(quarter[1]) - 1\n",
        "    previous_quarter = f\"Q{previous_quarter_number}_{year-1}\" if quarter != 'Q1' else f\"Q4_{year-1}\"\n",
        "\n",
        "    one_year_from_previous_month = f\"{year+1}{previous_month[4:]}\"\n",
        "\n",
        "    quardo = f\"{previous_quarter[:2]}_{previous_month}\"\n",
        "\n",
        "    output = {\n",
        "        'previous_month': previous_month,\n",
        "        'previous_quarter': previous_quarter,\n",
        "        'One_year_from_previous_month': one_year_from_previous_month,\n",
        "        'QUARDO': quardo\n",
        "    }\n",
        "\n",
        "    return output\n",
        "\n",
        "date = \"202209\"\n",
        "quarter = \"Q3\"\n",
        "\n",
        "output = output_dict(date, quarter)\n",
        "print(output)\n"
      ],
      "metadata": {
        "colab": {
          "base_uri": "https://localhost:8080/"
        },
        "id": "HUbwTvY894mM",
        "outputId": "3d515da1-533e-47dc-e392-47d5caa3ecdd"
      },
      "execution_count": 1,
      "outputs": [
        {
          "output_type": "stream",
          "name": "stdout",
          "text": [
            "{'previous_month': '202108', 'previous_quarter': 'Q2_2021', 'One_year_from_previous_month': '202308', 'QUARDO': 'Q2_202108'}\n"
          ]
        }
      ]
    },
    {
      "cell_type": "code",
      "source": [],
      "metadata": {
        "id": "Dy6VZVnV-vJq"
      },
      "execution_count": 2,
      "outputs": []
    },
    {
      "cell_type": "code",
      "source": [],
      "metadata": {
        "id": "3yZfeOZxJ_Fz"
      },
      "execution_count": null,
      "outputs": []
    }
  ]
}