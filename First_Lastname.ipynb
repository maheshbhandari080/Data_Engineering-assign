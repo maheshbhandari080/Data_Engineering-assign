{
  "nbformat": 4,
  "nbformat_minor": 0,
  "metadata": {
    "colab": {
      "provenance": []
    },
    "kernelspec": {
      "name": "python3",
      "display_name": "Python 3"
    },
    "language_info": {
      "name": "python"
    }
  },
  "cells": [
    {
      "cell_type": "code",
      "execution_count": 3,
      "metadata": {
        "colab": {
          "base_uri": "https://localhost:8080/"
        },
        "id": "M2BUbk3TM-tl",
        "outputId": "bec748d3-d5a1-46c9-b446-0fdb91864de7"
      },
      "outputs": [
        {
          "output_type": "stream",
          "name": "stdout",
          "text": [
            "['Mahesh Bhandari', 'Kesava Abisek', 'Vijay Reddy']\n"
          ]
        }
      ],
      "source": [
        "# initialize the Python lists  \n",
        "list_firstname = ['Mahesh','Kesava','Vijay']  \n",
        "list_lastname = ['Bhandari','Abisek','Reddy']  \n",
        "# use list comprehension to add two lists.  \n",
        "full_name = [ list_firstname[x] + ' ' + list_lastname[x] for x in range (len (list_firstname))]   \n",
        "print (full_name)\n"
      ]
    },
    {
      "cell_type": "code",
      "source": [],
      "metadata": {
        "id": "Y0sH0MvVNBy9"
      },
      "execution_count": null,
      "outputs": []
    }
  ]
}